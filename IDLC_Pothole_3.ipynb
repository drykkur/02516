{
 "cells": [
  {
   "cell_type": "code",
   "execution_count": null,
   "metadata": {},
   "outputs": [],
   "source": [
    "import xml.etree.ElementTree as ET\n",
    "import matplotlib.pyplot as plt\n",
    "import matplotlib.patches as patches\n",
    "from PIL import Image\n",
    "import cv2\n",
    "import os\n",
    "import json\n",
    "import numpy as np\n",
    "import random\n",
    "from tqdm.notebook import tqdm\n",
    "from torchvision.transforms import functional as FN\n",
    "import torch\n",
    "import torch.nn as nn\n",
    "from torchvision import transforms\n",
    "from torch.utils.data import Dataset, DataLoader\n",
    "\n",
    "from torchvision import models\n",
    "from torchsummary import summary\n",
    "from torch.utils.data._utils.collate import default_collate\n",
    "import torch.nn.functional as F\n",
    "from torch.utils.data import WeightedRandomSampler\n",
    "from torch.utils.data import Subset\n",
    "\n",
    "from time import time\n",
    "from IPython.display import clear_output"
   ]
  },
  {
   "cell_type": "code",
   "execution_count": null,
   "metadata": {},
   "outputs": [],
   "source": [
    "device = torch.device('cuda' if torch.cuda.is_available() else 'cpu')\n",
    "print(device)\n",
    "transform = transforms.Compose([\n",
    "    transforms.Resize((256, 256)),  # Resize the cropped images\n",
    "    transforms.ToTensor()\n",
    "])"
   ]
  },
  {
   "cell_type": "code",
   "execution_count": null,
   "metadata": {},
   "outputs": [],
   "source": [
    "weights_path = \"whatever.pt\"\n",
    "model_ft = models.resnet50()\n",
    "num_ftrs = model.fc.in_features\n",
    "model_ft.fc = nn.Linear(num_ftrs, 2)\n",
    "state_dict = torch.load(weights_path)\n",
    "model_ft.load_state_dict(state_dict)\n",
    "model_ft.to(device)"
   ]
  },
  {
   "cell_type": "code",
   "execution_count": null,
   "metadata": {},
   "outputs": [],
   "source": [
    "class PotholeDataset2(Dataset):\n",
    "    def __init__(self, json_file, transform=None, subset=None):\n",
    "        with open(json_file, 'r') as f:\n",
    "            self.data = json.load(f)\n",
    "\n",
    "        self.transform = transform\n",
    "        self.subset = subset\n",
    "        self.cropped_data = []\n",
    "        self.original_images = {}\n",
    "        self.prepare_dataset()\n",
    "\n",
    "\n",
    "    def prepare_dataset(self):\n",
    "            for item in self.data:\n",
    "                if self.subset is not None and item.get('subset') != self.subset:\n",
    "                    continue\n",
    "                image_path = item['image']\n",
    "                image = Image.open(image_path).convert('RGB')\n",
    "                self.original_images[image_path] = image\n",
    "                for box_info in item['boxes']:\n",
    "                    box = box_info['box']\n",
    "                    cropped_image = FN.crop(image, box[1], box[0], box[3], box[2])  # top, left, height, width\n",
    "                    if self.transform:\n",
    "                        cropped_image = self.transform(cropped_image)\n",
    "                    self.cropped_data.append((cropped_image, image_path, box))\n",
    "\n",
    "\n",
    "    def __len__(self):\n",
    "        return len(self.cropped_data)\n",
    "\n",
    "    def __getitem__(self, idx):\n",
    "        cropped_image, image_path, box = self.cropped_data[idx]\n",
    "        return cropped_image, image_path, box"
   ]
  },
  {
   "cell_type": "code",
   "execution_count": null,
   "metadata": {},
   "outputs": [],
   "source": [
    "picture_boxes = PotholeDataset2(json_file='processed_images_data.json', transform=transform, subset='test')\n",
    "picture_loader = DataLoader(picture_boxes, batch_size=1, shuffle=False, num_workers=3)"
   ]
  },
  {
   "cell_type": "code",
   "execution_count": null,
   "metadata": {},
   "outputs": [],
   "source": [
    "\n",
    "def display_image_with_boxes(image_path, boxes_predictions):\n",
    "    image = Image.open(image_path)\n",
    "    fig, ax = plt.subplots(1)\n",
    "    ax.imshow(image)\n",
    "    for box in boxes_predictions:\n",
    "        xmin, ymin, width, height = box\n",
    "        rect = patches.Rectangle((xmin, ymin), width, height, linewidth=2, edgecolor='g', facecolor='none')\n",
    "        ax.add_patch(rect)\n",
    "    plt.show()\n",
    "\n"
   ]
  },
  {
   "cell_type": "code",
   "execution_count": null,
   "metadata": {},
   "outputs": [],
   "source": [
    "c = 0\n",
    "with open(\"processed_images_data.json\", 'r') as file:\n",
    "    data = json.load(file)\n",
    "for original_image_path in picture_boxes.original_images.keys():\n",
    "    boxes_predictions = []\n",
    "\n",
    "\n",
    "    print()\n",
    "    for item in data:\n",
    "        if item['image'] == original_image_path:\n",
    "            image = Image.open(original_image_path).convert('RGB')\n",
    "            print(original_image_path)\n",
    "\n",
    "            for box_info in item['boxes']:\n",
    " \n",
    "                cropped_image = FN.crop(image, box_info['box'][1],box_info['box'][0],box_info['box'][3],box_info['box'][2])\n",
    "\n",
    "                cropped_image = transform(cropped_image)\n",
    "\n",
    "                cropped_image = cropped_image.to(device)\n",
    "                pred = model_ft(cropped_image.unsqueeze(0))\n",
    "                propability = torch.softmax(pred, dim=1).cpu().detach().numpy()[0][1]\n",
    "        \n",
    "                if pred.argmax(1).item() == 1:\n",
    "                    if propability> 0.7:  # Check if the prediction is class 1\n",
    "                        boxes_predictions.append(box_info['box'])\n",
    "            \n",
    "\n",
    "        \n",
    "      \n",
    "\n",
    "    if boxes_predictions:  # Display the image if there are boxes with class 1\n",
    "        display_image_with_boxes(original_image_path, boxes_predictions)\n",
    "        c+= 1\n",
    "        if c > 5:\n",
    "            break\n"
   ]
  },
  {
   "cell_type": "code",
   "execution_count": null,
   "metadata": {},
   "outputs": [],
   "source": []
  },
  {
   "cell_type": "code",
   "execution_count": null,
   "metadata": {},
   "outputs": [],
   "source": []
  },
  {
   "cell_type": "code",
   "execution_count": null,
   "metadata": {},
   "outputs": [],
   "source": [
    "\n",
    "\n",
    "\n",
    "\n",
    "\n"
   ]
  },
  {
   "cell_type": "code",
   "execution_count": null,
   "metadata": {},
   "outputs": [],
   "source": []
  }
 ],
 "metadata": {
  "language_info": {
   "name": "python"
  }
 },
 "nbformat": 4,
 "nbformat_minor": 2
}
